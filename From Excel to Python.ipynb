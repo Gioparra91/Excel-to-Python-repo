{
 "cells": [
  {
   "cell_type": "markdown",
   "metadata": {},
   "source": [
    "# From Excel to Python"
   ]
  },
  {
   "cell_type": "markdown",
   "metadata": {},
   "source": [
    "## Creating Pandas DataFrames from lists and Dictionaries"
   ]
  },
  {
   "cell_type": "markdown",
   "metadata": {},
   "source": [
    "Whenever I am doing analysis with pandas my first goal is to get data into a panda’s DataFrame using one of the many available options. For the vast majority of instances, I use **read_excel**, **read_csv** , **or read_sql**.\n",
    "\n",
    "However, there are instances when I just have a few lines of data or some calculations that I want to include in my analysis. In these cases it is helpful to know how to create DataFrames from standard python lists or dictionaries. The basic process is not difficult but because there are several different options it is helpful to understand how each works. I can never remember whether I should use **from_dict** , **from_records** , **from_items** or the default **DataFrame** constructor. Normally, through some trial and error, I figure it out. Since it is still confusing to me, I thought I would walk through several examples below to clarify the different approaches. At the end of the article, I briefly show how this can be useful when generating Excel reports."
   ]
  },
  {
   "cell_type": "markdown",
   "metadata": {},
   "source": [
    "![image](http://pbpython.com/images/pandas-dataframe-shadow.png)"
   ]
  },
  {
   "cell_type": "code",
   "execution_count": 5,
   "metadata": {},
   "outputs": [
    {
     "name": "stdout",
     "output_type": "stream",
     "text": [
      "Collecting XlsxWriter\n",
      "\u001b[?25l  Downloading https://files.pythonhosted.org/packages/92/07/79ae72179714feaaaac5bd4155a35195e0986384396bd6f7cba3e7952072/XlsxWriter-1.1.0-py2.py3-none-any.whl (141kB)\n",
      "\u001b[K    100% |████████████████████████████████| 143kB 8.5MB/s ta 0:00:01\n",
      "\u001b[?25hInstalling collected packages: XlsxWriter\n",
      "Successfully installed XlsxWriter-1.1.0\n"
     ]
    },
    {
     "ename": "NameError",
     "evalue": "name 'main' is not defined",
     "output_type": "error",
     "traceback": [
      "\u001b[0;31m---------------------------------------------------------------------------\u001b[0m",
      "\u001b[0;31mNameError\u001b[0m                                 Traceback (most recent call last)",
      "\u001b[0;32m<ipython-input-5-4cc9f256e20c>\u001b[0m in \u001b[0;36m<module>\u001b[0;34m()\u001b[0m\n\u001b[1;32m      5\u001b[0m \u001b[0mget_ipython\u001b[0m\u001b[0;34m(\u001b[0m\u001b[0;34m)\u001b[0m\u001b[0;34m.\u001b[0m\u001b[0msystem\u001b[0m\u001b[0;34m(\u001b[0m\u001b[0;34m'pip install --user XlsxWriter'\u001b[0m\u001b[0;34m)\u001b[0m\u001b[0;34m\u001b[0m\u001b[0m\n\u001b[1;32m      6\u001b[0m \u001b[0;34m\u001b[0m\u001b[0m\n\u001b[0;32m----> 7\u001b[0;31m \u001b[0minstall\u001b[0m\u001b[0;34m(\u001b[0m\u001b[0;34m'XlsxWriter'\u001b[0m\u001b[0;34m)\u001b[0m\u001b[0;34m\u001b[0m\u001b[0m\n\u001b[0m",
      "\u001b[0;32m<ipython-input-2-fe029288728f>\u001b[0m in \u001b[0;36minstall\u001b[0;34m(package)\u001b[0m\n\u001b[1;32m      7\u001b[0m \u001b[0;34m\u001b[0m\u001b[0m\n\u001b[1;32m      8\u001b[0m \u001b[0;32mdef\u001b[0m \u001b[0minstall\u001b[0m\u001b[0;34m(\u001b[0m\u001b[0mpackage\u001b[0m\u001b[0;34m)\u001b[0m\u001b[0;34m:\u001b[0m\u001b[0;34m\u001b[0m\u001b[0m\n\u001b[0;32m----> 9\u001b[0;31m     \u001b[0mmain\u001b[0m\u001b[0;34m(\u001b[0m\u001b[0;34m[\u001b[0m\u001b[0;34m'install'\u001b[0m\u001b[0;34m,\u001b[0m \u001b[0;34m\"--ignore-installed\"\u001b[0m\u001b[0;34m,\u001b[0m \u001b[0;34m\"--user\"\u001b[0m\u001b[0;34m,\u001b[0m \u001b[0mpackage\u001b[0m\u001b[0;34m]\u001b[0m\u001b[0;34m)\u001b[0m\u001b[0;34m\u001b[0m\u001b[0m\n\u001b[0m\u001b[1;32m     10\u001b[0m \u001b[0;34m\u001b[0m\u001b[0m\n\u001b[1;32m     11\u001b[0m \u001b[0;31m# Example Install\u001b[0m\u001b[0;34m\u001b[0m\u001b[0;34m\u001b[0m\u001b[0m\n",
      "\u001b[0;31mNameError\u001b[0m: name 'main' is not defined"
     ]
    }
   ],
   "source": [
    "import os\n",
    "os.environ[\"http_proxy\"] = '10.48.209.10:8080'\n",
    "os.environ[\"https_proxy\"] = '10.48.209.10:8080'\n",
    "\n",
    "!pip install --user XlsxWriter\n",
    "\n",
    "install('XlsxWriter')"
   ]
  },
  {
   "cell_type": "code",
   "execution_count": 34,
   "metadata": {},
   "outputs": [],
   "source": [
    "import pandas as pd\n",
    "from collections import OrderedDict\n",
    "from datetime import date\n",
    "#import XlsxWriter "
   ]
  },
  {
   "cell_type": "markdown",
   "metadata": {},
   "source": [
    "#### Dictionaries"
   ]
  },
  {
   "cell_type": "markdown",
   "metadata": {},
   "source": [
    "The “default” manner to create a DataFrame from python is to use a list of dictionaries. In this case each dictionary key is used for the column headings. A default index will be created automatically. As you can see, this approach is very “row oriented”. "
   ]
  },
  {
   "cell_type": "code",
   "execution_count": 9,
   "metadata": {},
   "outputs": [
    {
     "name": "stdout",
     "output_type": "stream",
     "text": [
      "   Feb  Jan  Mar    account\n",
      "0  200  150  140  Jones LLC\n",
      "1  210  200  215   Alpha Co\n",
      "2   90   50   95   Blue Inc\n"
     ]
    }
   ],
   "source": [
    "sales = [{'account': 'Jones LLC', 'Jan': 150, 'Feb': 200, 'Mar': 140},\n",
    "         {'account': 'Alpha Co',  'Jan': 200, 'Feb': 210, 'Mar': 215},\n",
    "         {'account': 'Blue Inc',  'Jan': 50,  'Feb': 90,  'Mar': 95 }]\n",
    "df = pd.DataFrame(sales)\n",
    "print(df)"
   ]
  },
  {
   "cell_type": "markdown",
   "metadata": {},
   "source": [
    "If you would like to create a DataFrame in a “column oriented” manner, you would use from_dict. Using this approach, you get the same results as above. The key point to consider is which method is easier to understand in your unique situation. "
   ]
  },
  {
   "cell_type": "code",
   "execution_count": 10,
   "metadata": {},
   "outputs": [
    {
     "name": "stdout",
     "output_type": "stream",
     "text": [
      "   Feb  Jan  Mar    account\n",
      "0  200  150  140  Jones LLC\n",
      "1  210  200  215   Alpha Co\n",
      "2   90   50   95   Blue Inc\n"
     ]
    }
   ],
   "source": [
    "sales = {'account': ['Jones LLC', 'Alpha Co', 'Blue Inc'],\n",
    "         'Jan': [150, 200, 50],\n",
    "         'Feb': [200, 210, 90],\n",
    "         'Mar': [140, 215, 95]}\n",
    "df1 = pd.DataFrame.from_dict(sales)\n",
    "print(df1)"
   ]
  },
  {
   "cell_type": "markdown",
   "metadata": {},
   "source": [
    "Most of you will notice that the order of the columns looks wrong. The issue is that the standard python dictionary does not preserve the order of its keys. If you want to control column order then there are two options."
   ]
  },
  {
   "cell_type": "code",
   "execution_count": 13,
   "metadata": {},
   "outputs": [
    {
     "name": "stdout",
     "output_type": "stream",
     "text": [
      "     account  Jan  Feb  Mar\n",
      "0  Jones LLC  150  200  140\n",
      "1   Alpha Co  200  210  215\n",
      "2   Blue Inc   50   90   95\n"
     ]
    }
   ],
   "source": [
    "#manually\n",
    "df = df[['account', 'Jan', 'Feb', 'Mar']]\n",
    "\n",
    "#using OrderDict\n",
    "sales = OrderedDict([ ('account', ['Jones LLC', 'Alpha Co', 'Blue Inc']),\n",
    "          ('Jan', [150, 200, 50]),\n",
    "          ('Feb',  [200, 210, 90]),\n",
    "          ('Mar', [140, 215, 95]) ] )\n",
    "df3 = pd.DataFrame.from_dict(sales)\n",
    "print(df3)"
   ]
  },
  {
   "cell_type": "markdown",
   "metadata": {},
   "source": [
    "#### Lists"
   ]
  },
  {
   "cell_type": "markdown",
   "metadata": {},
   "source": [
    "The other option for creating your DataFrames from python is to include the data in a list structure.\n",
    "\n",
    "The first approach is to use a row oriented approach using pandas from_records . This approach is similar to the dictionary approach but you need to explicitly call out the column labels."
   ]
  },
  {
   "cell_type": "code",
   "execution_count": 15,
   "metadata": {},
   "outputs": [
    {
     "name": "stdout",
     "output_type": "stream",
     "text": [
      "     account  Jan  Feb  Mar\n",
      "0  Jones LLC  150  200   50\n",
      "1   Alpha Co  200  210   90\n",
      "2   Blue Inc  140  215   95\n"
     ]
    }
   ],
   "source": [
    "sales = [('Jones LLC', 150, 200, 50),\n",
    "         ('Alpha Co', 200, 210, 90),\n",
    "         ('Blue Inc', 140, 215, 95)]\n",
    "labels = ['account', 'Jan', 'Feb', 'Mar']\n",
    "df4 = pd.DataFrame.from_records(sales, columns=labels)\n",
    "print(df4)"
   ]
  },
  {
   "cell_type": "markdown",
   "metadata": {},
   "source": [
    "#### Example"
   ]
  },
  {
   "cell_type": "code",
   "execution_count": 22,
   "metadata": {},
   "outputs": [
    {
     "name": "stdout",
     "output_type": "stream",
     "text": [
      "  Created by  created_on  version\n",
      "0         GP  08-29-2018      1.1 \n",
      "             0             1\n",
      "0  Created by          [GP]\n",
      "1  created_on  [08-29-2018]\n",
      "2     version         [1.1]\n"
     ]
    },
    {
     "name": "stderr",
     "output_type": "stream",
     "text": [
      "/usr/local/lib/python3.5/dist-packages/ipykernel_launcher.py:15: FutureWarning: from_items is deprecated. Please use DataFrame.from_dict(dict(items), ...) instead. DataFrame.from_dict(OrderedDict(items)) may be used to preserve the key order.\n",
      "  from ipykernel import kernelapp as app\n"
     ]
    }
   ],
   "source": [
    "sales = [('Jones LLC', 150, 200, 50),\n",
    "         ('Alpha Co', 200, 210, 90),\n",
    "         ('Blue Inc', 140, 215, 95)]\n",
    "labels = ['account', 'Jan', 'Feb', 'Mar']\n",
    "df6 = pd.DataFrame.from_records(sales, columns=labels)\n",
    "\n",
    "# build a footer\n",
    "from datetime import date\n",
    "\n",
    "created_date = \"{:%m-%d-%Y}\".format(date.today())\n",
    "created_by = \"GP\"\n",
    "footer = [('Created by', [created_by]), \n",
    "          ('created_on', [created_date]),\n",
    "         (\"version\", [1.1])]\n",
    "\n",
    "df_footer1 = pd.DataFrame.from_items(footer)\n",
    "df_footer2 = pd.DataFrame.from_records(footer)\n",
    "print(df_footer1, '\\n', df_footer2)"
   ]
  },
  {
   "cell_type": "code",
   "execution_count": 24,
   "metadata": {},
   "outputs": [
    {
     "ename": "ImportError",
     "evalue": "No module named 'xlsxwriter'",
     "output_type": "error",
     "traceback": [
      "\u001b[0;31m---------------------------------------------------------------------------\u001b[0m",
      "\u001b[0;31mImportError\u001b[0m                               Traceback (most recent call last)",
      "\u001b[0;32m<ipython-input-24-0fc26363120d>\u001b[0m in \u001b[0;36m<module>\u001b[0;34m()\u001b[0m\n\u001b[0;32m----> 1\u001b[0;31m \u001b[0mwriter\u001b[0m \u001b[0;34m=\u001b[0m \u001b[0mpd\u001b[0m\u001b[0;34m.\u001b[0m\u001b[0mExcelWriter\u001b[0m\u001b[0;34m(\u001b[0m\u001b[0;34m\"simple-report.xlsx\"\u001b[0m\u001b[0;34m,\u001b[0m \u001b[0mengine\u001b[0m\u001b[0;34m=\u001b[0m\u001b[0;34m'xlsxwriter'\u001b[0m\u001b[0;34m)\u001b[0m\u001b[0;34m\u001b[0m\u001b[0m\n\u001b[0m\u001b[1;32m      2\u001b[0m \u001b[0mdf6\u001b[0m\u001b[0;34m.\u001b[0m\u001b[0mto_excel\u001b[0m\u001b[0;34m(\u001b[0m\u001b[0mwriter\u001b[0m\u001b[0;34m,\u001b[0m \u001b[0mindex\u001b[0m\u001b[0;34m=\u001b[0m\u001b[0;32mFalse\u001b[0m\u001b[0;34m)\u001b[0m\u001b[0;34m\u001b[0m\u001b[0m\n\u001b[1;32m      3\u001b[0m \u001b[0mdf_footer\u001b[0m\u001b[0;34m.\u001b[0m\u001b[0mto_excel\u001b[0m\u001b[0;34m(\u001b[0m\u001b[0mwriter\u001b[0m\u001b[0;34m,\u001b[0m \u001b[0mstartrow\u001b[0m\u001b[0;34m=\u001b[0m\u001b[0;36m6\u001b[0m\u001b[0;34m,\u001b[0m \u001b[0mindex\u001b[0m\u001b[0;34m=\u001b[0m\u001b[0;32mFalse\u001b[0m\u001b[0;34m)\u001b[0m\u001b[0;34m\u001b[0m\u001b[0m\n\u001b[1;32m      4\u001b[0m \u001b[0mwriter\u001b[0m\u001b[0;34m.\u001b[0m\u001b[0msave\u001b[0m\u001b[0;34m(\u001b[0m\u001b[0;34m)\u001b[0m\u001b[0;34m\u001b[0m\u001b[0m\n",
      "\u001b[0;32m~/.local/lib/python3.5/site-packages/pandas/io/excel.py\u001b[0m in \u001b[0;36m__init__\u001b[0;34m(self, path, engine, date_format, datetime_format, **engine_kwargs)\u001b[0m\n\u001b[1;32m   1716\u001b[0m                  date_format=None, datetime_format=None, **engine_kwargs):\n\u001b[1;32m   1717\u001b[0m         \u001b[0;31m# Use the xlsxwriter module as the Excel writer.\u001b[0m\u001b[0;34m\u001b[0m\u001b[0;34m\u001b[0m\u001b[0m\n\u001b[0;32m-> 1718\u001b[0;31m         \u001b[0;32mimport\u001b[0m \u001b[0mxlsxwriter\u001b[0m\u001b[0;34m\u001b[0m\u001b[0m\n\u001b[0m\u001b[1;32m   1719\u001b[0m \u001b[0;34m\u001b[0m\u001b[0m\n\u001b[1;32m   1720\u001b[0m         super(_XlsxWriter, self).__init__(path, engine=engine,\n",
      "\u001b[0;31mImportError\u001b[0m: No module named 'xlsxwriter'"
     ]
    }
   ],
   "source": [
    "# doesnt workbecause cannot install xlsxwrite\n",
    "\n",
    "writer = pd.ExcelWriter(\"simple-report.xlsx\", engine='xlsxwriter')\n",
    "df6.to_excel(writer, index=False)\n",
    "df_footer.to_excel(writer, startrow=6, index=False)\n",
    "writer.save()"
   ]
  },
  {
   "cell_type": "markdown",
   "metadata": {},
   "source": [
    "The secret sauce here is to use startrow to write the footer DataFrame below the sales DataFrame. There is also a corresponding startcol so you can control the column layout as well. This allows for a lot of flexibility with the basic to_excel function."
   ]
  }
 ],
 "metadata": {
  "kernelspec": {
   "display_name": "Python 3",
   "language": "python",
   "name": "python3"
  },
  "language_info": {
   "codemirror_mode": {
    "name": "ipython",
    "version": 3
   },
   "file_extension": ".py",
   "mimetype": "text/x-python",
   "name": "python",
   "nbconvert_exporter": "python",
   "pygments_lexer": "ipython3",
   "version": "3.5.2"
  }
 },
 "nbformat": 4,
 "nbformat_minor": 2
}
